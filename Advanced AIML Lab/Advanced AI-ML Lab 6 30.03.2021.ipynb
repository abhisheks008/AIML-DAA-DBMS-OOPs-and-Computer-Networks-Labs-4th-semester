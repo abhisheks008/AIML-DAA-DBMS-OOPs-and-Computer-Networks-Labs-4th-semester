{
 "cells": [
  {
   "cell_type": "markdown",
   "metadata": {},
   "source": [
    "## Abhishek Sharma\n",
    "### CS 2nd Year | Section : \"I\" | Roll No.: 01\n",
    "\n",
    "### Enrollment No.: 12019009001127\n",
    "\n",
    "## Advanced Artificial Intelligence and Machine Learning Lab 6\n",
    "\n",
    "#### Faculty : PC, AG, MB, BM | Date : 30.03.2021"
   ]
  },
  {
   "cell_type": "code",
   "execution_count": 6,
   "metadata": {},
   "outputs": [],
   "source": [
    "import numpy as np\n",
    "import matplotlib.pyplot as plt\n",
    "from sklearn.datasets import make_blobs\n",
    "from sklearn.cluster import KMeans"
   ]
  },
  {
   "cell_type": "code",
   "execution_count": 7,
   "metadata": {},
   "outputs": [],
   "source": [
    "traindata = make_blobs(n_samples = 200, centers = 4, n_features = 2, cluster_std = 1.4, random_state = 50)"
   ]
  },
  {
   "cell_type": "code",
   "execution_count": 8,
   "metadata": {},
   "outputs": [
    {
     "name": "stdout",
     "output_type": "stream",
     "text": [
      "(array([[ -1.24038348,   9.32911618],\n",
      "       [  0.93722939,  -6.75943053],\n",
      "       [ -2.25049682,   5.79821759],\n",
      "       [ -1.62713544,   8.07671413],\n",
      "       [ -5.68471141,  -3.5702236 ],\n",
      "       [ -2.02454142,  -4.75733923],\n",
      "       [ -1.77855674,  11.11523507],\n",
      "       [ -0.65950528,  -5.23097577],\n",
      "       [ -0.18153819,  -6.32633143],\n",
      "       [ -6.19311771,  -2.16380833],\n",
      "       [ -5.09179472,  -2.80935552],\n",
      "       [ -4.00181668,   9.1577351 ],\n",
      "       [ -2.95470283,  -2.29642739],\n",
      "       [ -3.26251364,   1.37671937],\n",
      "       [ -5.63327375,  -0.89411797],\n",
      "       [ -1.97449825,   4.43013258],\n",
      "       [ -2.84003051,  10.88589151],\n",
      "       [ -1.28047296,  10.26149378],\n",
      "       [ -5.16120189,  -1.65811966],\n",
      "       [ -4.77558541,  -1.98334319],\n",
      "       [ -6.53388663,  -3.38211649],\n",
      "       [ -2.55452008,   3.60016748],\n",
      "       [ -4.3467838 ,  10.5490894 ],\n",
      "       [ -1.56434395,  11.05348748],\n",
      "       [ -2.03981414,   9.75643541],\n",
      "       [ -1.52309185,   4.19860589],\n",
      "       [ -3.58429026,   9.2524598 ],\n",
      "       [ -1.09351939,  -2.18244793],\n",
      "       [ -2.57464375,   5.56652061],\n",
      "       [ -0.41057224,  10.42458332],\n",
      "       [ -0.24467947,  12.36806564],\n",
      "       [ -5.88841993,  -1.14877591],\n",
      "       [ -6.24232065,  -0.15490583],\n",
      "       [ -0.7058583 ,  -5.60806406],\n",
      "       [  0.06544567,  -4.39843836],\n",
      "       [ -3.87471866,  -2.36400881],\n",
      "       [ -5.39932829,  -1.38878518],\n",
      "       [ -4.55231676,  -1.3927601 ],\n",
      "       [ -1.62605049,   6.88307278],\n",
      "       [ -2.37575224,   6.24311161],\n",
      "       [ -1.20342307,  13.01439627],\n",
      "       [ -6.88434601,  -3.48184997],\n",
      "       [ -2.06214967,   6.45743773],\n",
      "       [ -2.92931935,   6.12364793],\n",
      "       [ -0.61036889,  -4.90839914],\n",
      "       [  1.42532623,  -3.56456573],\n",
      "       [ -1.89190938,   9.61769397],\n",
      "       [ -0.33605539,   6.37839372],\n",
      "       [ -1.67451598,   6.26500146],\n",
      "       [ -3.97052799,   9.06218611],\n",
      "       [ -0.98215112,  -4.91228231],\n",
      "       [ -7.28430513,  -4.2905385 ],\n",
      "       [ -0.49775478,   5.2808708 ],\n",
      "       [ -1.38804841,   8.55473186],\n",
      "       [ -0.39208859,   2.9347753 ],\n",
      "       [  0.40819055,   5.98686052],\n",
      "       [ -1.50450358,  -3.1998663 ],\n",
      "       [ -5.00999605,   0.4069609 ],\n",
      "       [ -6.05769341,  -0.83419238],\n",
      "       [ -2.77407683,   5.29684303],\n",
      "       [ -1.21847036,  -5.49270747],\n",
      "       [ -0.50173388,  -3.04306767],\n",
      "       [ -5.28400929,   8.19419584],\n",
      "       [ -2.44086013,  -5.74493063],\n",
      "       [ -1.35364271,  -5.43096307],\n",
      "       [ -3.13163638,   9.50706111],\n",
      "       [  0.84993442,  -7.07333641],\n",
      "       [ -4.10279894,   3.61160637],\n",
      "       [ -3.08188427,  10.89685148],\n",
      "       [ -4.45873141,   8.15251593],\n",
      "       [  0.88312943,  -4.74675215],\n",
      "       [ -5.98002147,  -2.82374804],\n",
      "       [ -3.30509255,   7.92892239],\n",
      "       [  1.10502773,  -6.18808772],\n",
      "       [ -2.99873408,   6.24155352],\n",
      "       [ -0.21953982,   5.45929232],\n",
      "       [ -5.34709849,  -2.61000705],\n",
      "       [  0.17401161,   4.78473787],\n",
      "       [ -2.34236654,   4.75959628],\n",
      "       [ -0.34397145,  -5.71259642],\n",
      "       [ -5.95486512,  -5.4960039 ],\n",
      "       [ -0.6561004 ,   6.25059148],\n",
      "       [ -5.62675671,  -1.84664443],\n",
      "       [ -4.88829309,  -2.85115938],\n",
      "       [ -5.78739244,  -1.4794789 ],\n",
      "       [ -7.12569083,  -1.85579606],\n",
      "       [ -3.27303415,  10.82823718],\n",
      "       [  0.20317412,  -5.08579888],\n",
      "       [ -3.02149104,  10.82002637],\n",
      "       [ -5.12122199,  -3.87114422],\n",
      "       [ -0.38854993,  -4.39808463],\n",
      "       [ -4.04735042,  10.72288908],\n",
      "       [  0.02640202,  -4.70377652],\n",
      "       [ -4.64654922,   4.42268168],\n",
      "       [ -2.33487028,   5.12306579],\n",
      "       [ -2.60151476,  -1.60830319],\n",
      "       [ -0.15152245, -10.77218444],\n",
      "       [ -2.15041924,   4.6348173 ],\n",
      "       [ -0.45205442,  -3.88696857],\n",
      "       [ -2.4615749 ,   5.12306311],\n",
      "       [ -7.5188697 ,  -3.03319292],\n",
      "       [ -1.35530355,  -5.81724278],\n",
      "       [ -3.45980783,   3.19641323],\n",
      "       [ -1.45317627,  11.72383869],\n",
      "       [ -1.53472476,   7.19849654],\n",
      "       [  1.95143525,  -6.25400517],\n",
      "       [ -2.79834707,   4.504355  ],\n",
      "       [ -2.7628158 ,  -3.30107888],\n",
      "       [ -8.81188296,  -2.04649439],\n",
      "       [ -1.92829878,  11.33399556],\n",
      "       [ -0.05335604,  -5.73691127],\n",
      "       [ -4.8231317 ,  -4.01679607],\n",
      "       [ -2.79151738,  10.50215854],\n",
      "       [ -3.15211669,   8.75228204],\n",
      "       [ -5.66973146,  -3.07825617],\n",
      "       [ -1.41139314,   4.51563721],\n",
      "       [ -2.53586562,  12.02725365],\n",
      "       [ -1.91639188,  11.50554198],\n",
      "       [ -3.35273328,   4.15978362],\n",
      "       [  4.53173839,  -4.05545927],\n",
      "       [  0.80337058,   8.84631466],\n",
      "       [ -3.48878097,   7.57478405],\n",
      "       [ -1.66366106,   8.38247136],\n",
      "       [ -1.8391572 ,  10.14881497],\n",
      "       [  3.6793899 ,  -7.52628182],\n",
      "       [ -1.19785779,  10.74060323],\n",
      "       [ -3.01517158,   9.15374415],\n",
      "       [ -2.6432229 ,   5.68222016],\n",
      "       [ -1.79382019,   7.89217158],\n",
      "       [  0.86746466,  -5.90672917],\n",
      "       [ -3.79297832,  -3.77589603],\n",
      "       [  0.91196495,  -3.16789423],\n",
      "       [ -0.46937557,  -5.37231929],\n",
      "       [  0.18553439,   3.23167066],\n",
      "       [ -1.32254775,   9.38281827],\n",
      "       [  0.44651158,   3.60886067],\n",
      "       [  0.08737698,  -5.03868079],\n",
      "       [ -0.84664269,  10.35028079],\n",
      "       [ -2.72912879,   8.69923838],\n",
      "       [ -5.2065827 ,  -2.08293648],\n",
      "       [ -3.68006172,   9.59085531],\n",
      "       [ -0.93112745,   5.89190781],\n",
      "       [ -2.37408365,   7.20698401],\n",
      "       [ -2.35925872,  -3.62905186],\n",
      "       [ -6.43120717,  -3.69356236],\n",
      "       [ -5.18679826,  11.21949435],\n",
      "       [  1.03396461,  -5.36622979],\n",
      "       [ -3.07336152,   5.38463749],\n",
      "       [  1.01929757,  -7.66137669],\n",
      "       [ -6.65977514,  -4.15553461],\n",
      "       [ -1.85384584,   9.28440746],\n",
      "       [ -6.43057703,  -2.11259314],\n",
      "       [ -3.47369508,   6.57865853],\n",
      "       [ -0.33834459,  -5.04885873],\n",
      "       [  0.08455355,  -6.44535257],\n",
      "       [ -2.27197579,   6.8534078 ],\n",
      "       [ -0.9163991 ,  10.00583499],\n",
      "       [ -0.68509532,  -5.663339  ],\n",
      "       [ -0.61607064,  -9.03762558],\n",
      "       [  2.7841802 ,  -3.91537047],\n",
      "       [ -1.68948617,   4.76484289],\n",
      "       [ -0.52764508,   5.6869465 ],\n",
      "       [ -1.27923811,  -2.67478121],\n",
      "       [ -1.90317672,  -7.29680837],\n",
      "       [ -5.08183057,  -4.27973584],\n",
      "       [ -4.61028145,  -0.88548909],\n",
      "       [ -4.87666933,  -2.17469061],\n",
      "       [ -1.47393534,   5.23709218],\n",
      "       [  1.61527261,  -8.76117264],\n",
      "       [ -0.38663666,  -4.94773487],\n",
      "       [ -1.20062399,  -3.93996308],\n",
      "       [  0.06890561,  -4.23126671],\n",
      "       [ -6.69812476,  -1.03053437],\n",
      "       [  0.71699839,   5.76926903],\n",
      "       [  0.01399349,  -5.39036219],\n",
      "       [ -2.8013025 ,   7.8171728 ],\n",
      "       [ -4.42650698,  -2.84005573],\n",
      "       [ -0.31764038,  -4.47190851],\n",
      "       [ -2.67551451,  10.50394891],\n",
      "       [ -3.53297858,   4.29711454],\n",
      "       [  1.09233965,  -7.54700291],\n",
      "       [ -1.49724557,   3.9694141 ],\n",
      "       [ -2.2028197 ,   5.55433286],\n",
      "       [ -3.01148678,   9.44856057],\n",
      "       [ -6.18323611,  -0.3055755 ],\n",
      "       [ -0.54856176,  -3.51574427],\n",
      "       [ -6.07302304,  -2.1809198 ],\n",
      "       [ -4.98145133,  12.51919391],\n",
      "       [  0.77141525,   4.48832818],\n",
      "       [  2.02236006,  -7.26782071],\n",
      "       [ -2.82192026,   2.94789034],\n",
      "       [ -2.87839764,   3.76490405],\n",
      "       [ -3.67194004,  -1.02483984],\n",
      "       [ -0.68786321,   7.22909637],\n",
      "       [  0.94696326,  -4.92948748],\n",
      "       [ -1.26921545,  10.87787731],\n",
      "       [ -4.09949099,  -1.99323105],\n",
      "       [ -3.1135477 ,   6.26652652],\n",
      "       [ -3.89717593,  -1.63079261],\n",
      "       [ -0.9283857 ,  11.64252363]]), array([2, 0, 3, 3, 1, 0, 2, 0, 0, 1, 1, 2, 1, 1, 1, 3, 2, 2, 1, 1, 1, 3,\n",
      "       2, 2, 2, 3, 2, 1, 3, 2, 2, 1, 1, 0, 0, 1, 1, 1, 3, 3, 2, 1, 3, 3,\n",
      "       0, 0, 2, 3, 3, 2, 0, 1, 3, 2, 3, 3, 0, 1, 1, 3, 0, 0, 2, 0, 0, 2,\n",
      "       0, 3, 2, 2, 0, 1, 2, 0, 3, 3, 1, 3, 3, 0, 1, 3, 1, 1, 1, 1, 2, 0,\n",
      "       2, 1, 0, 2, 0, 3, 3, 1, 0, 3, 0, 3, 1, 0, 3, 2, 3, 0, 3, 1, 1, 2,\n",
      "       0, 1, 2, 2, 1, 3, 2, 2, 3, 0, 2, 2, 2, 2, 0, 2, 2, 3, 2, 0, 1, 0,\n",
      "       0, 3, 2, 3, 0, 2, 2, 1, 2, 3, 2, 1, 1, 2, 0, 3, 0, 1, 2, 1, 3, 0,\n",
      "       0, 3, 2, 0, 0, 0, 3, 3, 1, 0, 1, 1, 1, 3, 0, 0, 0, 0, 1, 3, 0, 2,\n",
      "       1, 0, 2, 3, 0, 3, 3, 2, 1, 0, 1, 2, 3, 0, 3, 3, 1, 3, 0, 2, 1, 3,\n",
      "       1, 2]))\n"
     ]
    }
   ],
   "source": [
    "print (traindata)"
   ]
  },
  {
   "cell_type": "code",
   "execution_count": 9,
   "metadata": {},
   "outputs": [],
   "source": [
    "datapoint = traindata[0]"
   ]
  },
  {
   "cell_type": "code",
   "execution_count": 10,
   "metadata": {},
   "outputs": [
    {
     "name": "stdout",
     "output_type": "stream",
     "text": [
      "[[ -1.24038348   9.32911618]\n",
      " [  0.93722939  -6.75943053]\n",
      " [ -2.25049682   5.79821759]\n",
      " [ -1.62713544   8.07671413]\n",
      " [ -5.68471141  -3.5702236 ]\n",
      " [ -2.02454142  -4.75733923]\n",
      " [ -1.77855674  11.11523507]\n",
      " [ -0.65950528  -5.23097577]\n",
      " [ -0.18153819  -6.32633143]\n",
      " [ -6.19311771  -2.16380833]\n",
      " [ -5.09179472  -2.80935552]\n",
      " [ -4.00181668   9.1577351 ]\n",
      " [ -2.95470283  -2.29642739]\n",
      " [ -3.26251364   1.37671937]\n",
      " [ -5.63327375  -0.89411797]\n",
      " [ -1.97449825   4.43013258]\n",
      " [ -2.84003051  10.88589151]\n",
      " [ -1.28047296  10.26149378]\n",
      " [ -5.16120189  -1.65811966]\n",
      " [ -4.77558541  -1.98334319]\n",
      " [ -6.53388663  -3.38211649]\n",
      " [ -2.55452008   3.60016748]\n",
      " [ -4.3467838   10.5490894 ]\n",
      " [ -1.56434395  11.05348748]\n",
      " [ -2.03981414   9.75643541]\n",
      " [ -1.52309185   4.19860589]\n",
      " [ -3.58429026   9.2524598 ]\n",
      " [ -1.09351939  -2.18244793]\n",
      " [ -2.57464375   5.56652061]\n",
      " [ -0.41057224  10.42458332]\n",
      " [ -0.24467947  12.36806564]\n",
      " [ -5.88841993  -1.14877591]\n",
      " [ -6.24232065  -0.15490583]\n",
      " [ -0.7058583   -5.60806406]\n",
      " [  0.06544567  -4.39843836]\n",
      " [ -3.87471866  -2.36400881]\n",
      " [ -5.39932829  -1.38878518]\n",
      " [ -4.55231676  -1.3927601 ]\n",
      " [ -1.62605049   6.88307278]\n",
      " [ -2.37575224   6.24311161]\n",
      " [ -1.20342307  13.01439627]\n",
      " [ -6.88434601  -3.48184997]\n",
      " [ -2.06214967   6.45743773]\n",
      " [ -2.92931935   6.12364793]\n",
      " [ -0.61036889  -4.90839914]\n",
      " [  1.42532623  -3.56456573]\n",
      " [ -1.89190938   9.61769397]\n",
      " [ -0.33605539   6.37839372]\n",
      " [ -1.67451598   6.26500146]\n",
      " [ -3.97052799   9.06218611]\n",
      " [ -0.98215112  -4.91228231]\n",
      " [ -7.28430513  -4.2905385 ]\n",
      " [ -0.49775478   5.2808708 ]\n",
      " [ -1.38804841   8.55473186]\n",
      " [ -0.39208859   2.9347753 ]\n",
      " [  0.40819055   5.98686052]\n",
      " [ -1.50450358  -3.1998663 ]\n",
      " [ -5.00999605   0.4069609 ]\n",
      " [ -6.05769341  -0.83419238]\n",
      " [ -2.77407683   5.29684303]\n",
      " [ -1.21847036  -5.49270747]\n",
      " [ -0.50173388  -3.04306767]\n",
      " [ -5.28400929   8.19419584]\n",
      " [ -2.44086013  -5.74493063]\n",
      " [ -1.35364271  -5.43096307]\n",
      " [ -3.13163638   9.50706111]\n",
      " [  0.84993442  -7.07333641]\n",
      " [ -4.10279894   3.61160637]\n",
      " [ -3.08188427  10.89685148]\n",
      " [ -4.45873141   8.15251593]\n",
      " [  0.88312943  -4.74675215]\n",
      " [ -5.98002147  -2.82374804]\n",
      " [ -3.30509255   7.92892239]\n",
      " [  1.10502773  -6.18808772]\n",
      " [ -2.99873408   6.24155352]\n",
      " [ -0.21953982   5.45929232]\n",
      " [ -5.34709849  -2.61000705]\n",
      " [  0.17401161   4.78473787]\n",
      " [ -2.34236654   4.75959628]\n",
      " [ -0.34397145  -5.71259642]\n",
      " [ -5.95486512  -5.4960039 ]\n",
      " [ -0.6561004    6.25059148]\n",
      " [ -5.62675671  -1.84664443]\n",
      " [ -4.88829309  -2.85115938]\n",
      " [ -5.78739244  -1.4794789 ]\n",
      " [ -7.12569083  -1.85579606]\n",
      " [ -3.27303415  10.82823718]\n",
      " [  0.20317412  -5.08579888]\n",
      " [ -3.02149104  10.82002637]\n",
      " [ -5.12122199  -3.87114422]\n",
      " [ -0.38854993  -4.39808463]\n",
      " [ -4.04735042  10.72288908]\n",
      " [  0.02640202  -4.70377652]\n",
      " [ -4.64654922   4.42268168]\n",
      " [ -2.33487028   5.12306579]\n",
      " [ -2.60151476  -1.60830319]\n",
      " [ -0.15152245 -10.77218444]\n",
      " [ -2.15041924   4.6348173 ]\n",
      " [ -0.45205442  -3.88696857]\n",
      " [ -2.4615749    5.12306311]\n",
      " [ -7.5188697   -3.03319292]\n",
      " [ -1.35530355  -5.81724278]\n",
      " [ -3.45980783   3.19641323]\n",
      " [ -1.45317627  11.72383869]\n",
      " [ -1.53472476   7.19849654]\n",
      " [  1.95143525  -6.25400517]\n",
      " [ -2.79834707   4.504355  ]\n",
      " [ -2.7628158   -3.30107888]\n",
      " [ -8.81188296  -2.04649439]\n",
      " [ -1.92829878  11.33399556]\n",
      " [ -0.05335604  -5.73691127]\n",
      " [ -4.8231317   -4.01679607]\n",
      " [ -2.79151738  10.50215854]\n",
      " [ -3.15211669   8.75228204]\n",
      " [ -5.66973146  -3.07825617]\n",
      " [ -1.41139314   4.51563721]\n",
      " [ -2.53586562  12.02725365]\n",
      " [ -1.91639188  11.50554198]\n",
      " [ -3.35273328   4.15978362]\n",
      " [  4.53173839  -4.05545927]\n",
      " [  0.80337058   8.84631466]\n",
      " [ -3.48878097   7.57478405]\n",
      " [ -1.66366106   8.38247136]\n",
      " [ -1.8391572   10.14881497]\n",
      " [  3.6793899   -7.52628182]\n",
      " [ -1.19785779  10.74060323]\n",
      " [ -3.01517158   9.15374415]\n",
      " [ -2.6432229    5.68222016]\n",
      " [ -1.79382019   7.89217158]\n",
      " [  0.86746466  -5.90672917]\n",
      " [ -3.79297832  -3.77589603]\n",
      " [  0.91196495  -3.16789423]\n",
      " [ -0.46937557  -5.37231929]\n",
      " [  0.18553439   3.23167066]\n",
      " [ -1.32254775   9.38281827]\n",
      " [  0.44651158   3.60886067]\n",
      " [  0.08737698  -5.03868079]\n",
      " [ -0.84664269  10.35028079]\n",
      " [ -2.72912879   8.69923838]\n",
      " [ -5.2065827   -2.08293648]\n",
      " [ -3.68006172   9.59085531]\n",
      " [ -0.93112745   5.89190781]\n",
      " [ -2.37408365   7.20698401]\n",
      " [ -2.35925872  -3.62905186]\n",
      " [ -6.43120717  -3.69356236]\n",
      " [ -5.18679826  11.21949435]\n",
      " [  1.03396461  -5.36622979]\n",
      " [ -3.07336152   5.38463749]\n",
      " [  1.01929757  -7.66137669]\n",
      " [ -6.65977514  -4.15553461]\n",
      " [ -1.85384584   9.28440746]\n",
      " [ -6.43057703  -2.11259314]\n",
      " [ -3.47369508   6.57865853]\n",
      " [ -0.33834459  -5.04885873]\n",
      " [  0.08455355  -6.44535257]\n",
      " [ -2.27197579   6.8534078 ]\n",
      " [ -0.9163991   10.00583499]\n",
      " [ -0.68509532  -5.663339  ]\n",
      " [ -0.61607064  -9.03762558]\n",
      " [  2.7841802   -3.91537047]\n",
      " [ -1.68948617   4.76484289]\n",
      " [ -0.52764508   5.6869465 ]\n",
      " [ -1.27923811  -2.67478121]\n",
      " [ -1.90317672  -7.29680837]\n",
      " [ -5.08183057  -4.27973584]\n",
      " [ -4.61028145  -0.88548909]\n",
      " [ -4.87666933  -2.17469061]\n",
      " [ -1.47393534   5.23709218]\n",
      " [  1.61527261  -8.76117264]\n",
      " [ -0.38663666  -4.94773487]\n",
      " [ -1.20062399  -3.93996308]\n",
      " [  0.06890561  -4.23126671]\n",
      " [ -6.69812476  -1.03053437]\n",
      " [  0.71699839   5.76926903]\n",
      " [  0.01399349  -5.39036219]\n",
      " [ -2.8013025    7.8171728 ]\n",
      " [ -4.42650698  -2.84005573]\n",
      " [ -0.31764038  -4.47190851]\n",
      " [ -2.67551451  10.50394891]\n",
      " [ -3.53297858   4.29711454]\n",
      " [  1.09233965  -7.54700291]\n",
      " [ -1.49724557   3.9694141 ]\n",
      " [ -2.2028197    5.55433286]\n",
      " [ -3.01148678   9.44856057]\n",
      " [ -6.18323611  -0.3055755 ]\n",
      " [ -0.54856176  -3.51574427]\n",
      " [ -6.07302304  -2.1809198 ]\n",
      " [ -4.98145133  12.51919391]\n",
      " [  0.77141525   4.48832818]\n",
      " [  2.02236006  -7.26782071]\n",
      " [ -2.82192026   2.94789034]\n",
      " [ -2.87839764   3.76490405]\n",
      " [ -3.67194004  -1.02483984]\n",
      " [ -0.68786321   7.22909637]\n",
      " [  0.94696326  -4.92948748]\n",
      " [ -1.26921545  10.87787731]\n",
      " [ -4.09949099  -1.99323105]\n",
      " [ -3.1135477    6.26652652]\n",
      " [ -3.89717593  -1.63079261]\n",
      " [ -0.9283857   11.64252363]]\n"
     ]
    }
   ],
   "source": [
    "print (datapoint)"
   ]
  },
  {
   "cell_type": "code",
   "execution_count": 12,
   "metadata": {},
   "outputs": [],
   "source": [
    "# Creating the KMeans Object\n",
    "\n",
    "\n",
    "kmeans =KMeans (n_clusters = 4)"
   ]
  },
  {
   "cell_type": "code",
   "execution_count": 13,
   "metadata": {},
   "outputs": [],
   "source": [
    "y_pred = kmeans.fit_predict(datapoint)"
   ]
  },
  {
   "cell_type": "code",
   "execution_count": 14,
   "metadata": {},
   "outputs": [
    {
     "data": {
      "text/plain": [
       "<matplotlib.collections.PathCollection at 0x9a9d788>"
      ]
     },
     "execution_count": 14,
     "metadata": {},
     "output_type": "execute_result"
    },
    {
     "data": {
      "image/png": "[encoded data removed]",
      "text/plain": [
       "<Figure size 432x288 with 1 Axes>"
      ]
     },
     "metadata": {
      "needs_background": "light"
     },
     "output_type": "display_data"
    }
   ],
   "source": [
    "# Plotting datapoints\n",
    "plt.scatter (datapoint[:,0],datapoint[:,1])"
   ]
  },
  {
   "cell_type": "code",
   "execution_count": 15,
   "metadata": {},
   "outputs": [],
   "source": [
    "clusters = kmeans.cluster_centers_"
   ]
  },
  {
   "cell_type": "code",
   "execution_count": 16,
   "metadata": {},
   "outputs": [
    {
     "name": "stdout",
     "output_type": "stream",
     "text": [
      "[[-1.87780649  5.1219642 ]\n",
      " [-5.42131316 -2.3367578 ]\n",
      " [-2.42382487  9.98912391]\n",
      " [ 0.03927163 -5.37253164]]\n"
     ]
    }
   ],
   "source": [
    "print (clusters)"
   ]
  },
  {
   "cell_type": "code",
   "execution_count": 18,
   "metadata": {},
   "outputs": [
    {
     "data": {
      "text/plain": [
       "<matplotlib.collections.PathCollection at 0xb635b08>"
      ]
     },
     "execution_count": 18,
     "metadata": {},
     "output_type": "execute_result"
    },
    {
     "data": {
      "image/png": "[encoded data removed]",
      "text/plain": [
       "<Figure size 432x288 with 1 Axes>"
      ]
     },
     "metadata": {
      "needs_background": "light"
     },
     "output_type": "display_data"
    }
   ],
   "source": [
    "# plotting clusters\n",
    "\n",
    "plt.scatter(datapoint[y_pred==0,0], datapoint[y_pred == 0,1])"
   ]
  },
  {
   "cell_type": "code",
   "execution_count": 19,
   "metadata": {},
   "outputs": [
    {
     "data": {
      "text/plain": [
       "<matplotlib.collections.PathCollection at 0xb6949c8>"
      ]
     },
     "execution_count": 19,
     "metadata": {},
     "output_type": "execute_result"
    },
    {
     "data": {
      "image/png": "[encoded data removed]",
      "text/plain": [
       "<Figure size 432x288 with 1 Axes>"
      ]
     },
     "metadata": {
      "needs_background": "light"
     },
     "output_type": "display_data"
    }
   ],
   "source": [
    "# Providing the size of the plotting area using the size variable\n",
    "\n",
    "plt.scatter(datapoint[y_pred==0,0], datapoint[y_pred == 0,1], s = 100, color = 'red')"
   ]
  },
  {
   "cell_type": "code",
   "execution_count": 21,
   "metadata": {},
   "outputs": [
    {
     "data": {
      "text/plain": [
       "<matplotlib.collections.PathCollection at 0xb776208>"
      ]
     },
     "execution_count": 21,
     "metadata": {},
     "output_type": "execute_result"
    },
    {
     "data": {
      "image/png": "[encoded data removed]",
      "text/plain": [
       "<Figure size 432x288 with 1 Axes>"
      ]
     },
     "metadata": {
      "needs_background": "light"
     },
     "output_type": "display_data"
    }
   ],
   "source": [
    "# Plotting four clusters in a single plot\n",
    "\n",
    "plt.scatter(datapoint[y_pred==0,0], datapoint[y_pred == 0,1], s = 60, color = 'red')\n",
    "plt.scatter(datapoint[y_pred==1,0], datapoint[y_pred == 1,1], s = 60, color = 'blue')\n",
    "plt.scatter(datapoint[y_pred==2,0], datapoint[y_pred == 2,1], s = 60, color = 'green')\n",
    "plt.scatter(datapoint[y_pred==3,0], datapoint[y_pred == 3,1], s = 60, color = 'black')"
   ]
  },
  {
   "cell_type": "code",
   "execution_count": 22,
   "metadata": {},
   "outputs": [
    {
     "data": {
      "text/plain": [
       "<matplotlib.collections.PathCollection at 0xb6bfd08>"
      ]
     },
     "execution_count": 22,
     "metadata": {},
     "output_type": "execute_result"
    },
    {
     "data": {
      "image/png": "[encoded data removed]",
      "text/plain": [
       "<Figure size 432x288 with 1 Axes>"
      ]
     },
     "metadata": {
      "needs_background": "light"
     },
     "output_type": "display_data"
    }
   ],
   "source": [
    "# Plotting the centriod of 0,0 cluster\n",
    "\n",
    "plt.scatter(clusters[0][0], clusters[0][1] , marker = 'd', s = 60, color = 'orange')"
   ]
  },
  {
   "cell_type": "code",
   "execution_count": 28,
   "metadata": {},
   "outputs": [
    {
     "data": {
      "text/plain": [
       "<matplotlib.collections.PathCollection at 0xba9f648>"
      ]
     },
     "execution_count": 28,
     "metadata": {},
     "output_type": "execute_result"
    },
    {
     "data": {
      "image/png": "[encoded data removed]",
      "text/plain": [
       "<Figure size 432x288 with 1 Axes>"
      ]
     },
     "metadata": {
      "needs_background": "light"
     },
     "output_type": "display_data"
    }
   ],
   "source": [
    "# Plotting the centriod inside the clusters to have a clear view\n",
    "\n",
    "plt.scatter(datapoint[y_pred==0,0], datapoint[y_pred == 0,1], s = 60, color = 'red')\n",
    "plt.scatter(datapoint[y_pred==1,0], datapoint[y_pred == 1,1], s = 60, color = 'blue')\n",
    "plt.scatter(datapoint[y_pred==2,0], datapoint[y_pred == 2,1], s = 60, color = 'green')\n",
    "plt.scatter(datapoint[y_pred==3,0], datapoint[y_pred == 3,1], s = 60, color = 'cyan')\n",
    "\n",
    "plt.scatter(clusters[0][0], clusters[0][1] , marker = 'd', s = 150, color = 'black')\n",
    "plt.scatter(clusters[1][0], clusters[1][1] , marker = 'd', s = 150, color = 'black')\n",
    "plt.scatter(clusters[2][0], clusters[2][1] , marker = 'd', s = 150, color = 'black')\n",
    "plt.scatter(clusters[3][0], clusters[3][1] , marker = 'd', s = 150, color = 'black')"
   ]
  },
  {
   "cell_type": "markdown",
   "metadata": {},
   "source": [
    "### Showing the KMeans Clustering using the Iris Dataset"
   ]
  },
  {
   "cell_type": "code",
   "execution_count": 29,
   "metadata": {},
   "outputs": [],
   "source": [
    "import pandas as pd"
   ]
  },
  {
   "cell_type": "code",
   "execution_count": 30,
   "metadata": {},
   "outputs": [],
   "source": [
    "data = pd.read_csv('Iris.csv')"
   ]
  },
  {
   "cell_type": "code",
   "execution_count": 31,
   "metadata": {},
   "outputs": [
    {
     "data": {
      "text/html": [
       "<div>\n",
       "<style scoped>\n",
       "    .dataframe tbody tr th:only-of-type {\n",
       "        vertical-align: middle;\n",
       "    }\n",
       "\n",
       "    .dataframe tbody tr th {\n",
       "        vertical-align: top;\n",
       "    }\n",
       "\n",
       "    .dataframe thead th {\n",
       "        text-align: right;\n",
       "    }\n",
       "</style>\n",
       "<table border=\"1\" class=\"dataframe\">\n",
       "  <thead>\n",
       "    <tr style=\"text-align: right;\">\n",
       "      <th></th>\n",
       "      <th>Id</th>\n",
       "      <th>SepalLengthCm</th>\n",
       "      <th>SepalWidthCm</th>\n",
       "      <th>PetalLengthCm</th>\n",
       "      <th>PetalWidthCm</th>\n",
       "      <th>Species</th>\n",
       "    </tr>\n",
       "  </thead>\n",
       "  <tbody>\n",
       "    <tr>\n",
       "      <th>0</th>\n",
       "      <td>1</td>\n",
       "      <td>5.1</td>\n",
       "      <td>3.5</td>\n",
       "      <td>1.4</td>\n",
       "      <td>0.2</td>\n",
       "      <td>Iris-setosa</td>\n",
       "    </tr>\n",
       "    <tr>\n",
       "      <th>1</th>\n",
       "      <td>2</td>\n",
       "      <td>4.9</td>\n",
       "      <td>3.0</td>\n",
       "      <td>1.4</td>\n",
       "      <td>0.2</td>\n",
       "      <td>Iris-setosa</td>\n",
       "    </tr>\n",
       "    <tr>\n",
       "      <th>2</th>\n",
       "      <td>3</td>\n",
       "      <td>4.7</td>\n",
       "      <td>3.2</td>\n",
       "      <td>1.3</td>\n",
       "      <td>0.2</td>\n",
       "      <td>Iris-setosa</td>\n",
       "    </tr>\n",
       "    <tr>\n",
       "      <th>3</th>\n",
       "      <td>4</td>\n",
       "      <td>4.6</td>\n",
       "      <td>3.1</td>\n",
       "      <td>1.5</td>\n",
       "      <td>0.2</td>\n",
       "      <td>Iris-setosa</td>\n",
       "    </tr>\n",
       "    <tr>\n",
       "      <th>4</th>\n",
       "      <td>5</td>\n",
       "      <td>5.0</td>\n",
       "      <td>3.6</td>\n",
       "      <td>1.4</td>\n",
       "      <td>0.2</td>\n",
       "      <td>Iris-setosa</td>\n",
       "    </tr>\n",
       "  </tbody>\n",
       "</table>\n",
       "</div>"
      ],
      "text/plain": [
       "   Id  SepalLengthCm  SepalWidthCm  PetalLengthCm  PetalWidthCm      Species\n",
       "0   1            5.1           3.5            1.4           0.2  Iris-setosa\n",
       "1   2            4.9           3.0            1.4           0.2  Iris-setosa\n",
       "2   3            4.7           3.2            1.3           0.2  Iris-setosa\n",
       "3   4            4.6           3.1            1.5           0.2  Iris-setosa\n",
       "4   5            5.0           3.6            1.4           0.2  Iris-setosa"
      ]
     },
     "execution_count": 31,
     "metadata": {},
     "output_type": "execute_result"
    }
   ],
   "source": [
    "data.head()"
   ]
  },
  {
   "cell_type": "code",
   "execution_count": 32,
   "metadata": {},
   "outputs": [],
   "source": [
    "import seaborn as sns"
   ]
  },
  {
   "cell_type": "code",
   "execution_count": 34,
   "metadata": {
    "scrolled": true
   },
   "outputs": [
    {
     "data": {
      "image/png": "[encoded data removed]",
      "text/plain": [
       "<Figure size 432x288 with 1 Axes>"
      ]
     },
     "metadata": {
      "needs_background": "light"
     },
     "output_type": "display_data"
    }
   ],
   "source": [
    "# finding the species\n",
    "\n",
    "plt.title('Species Count')\n",
    "sns.countplot(data['Species']);"
   ]
  },
  {
   "cell_type": "markdown",
   "metadata": {},
   "source": [
    "Hence there are three types of species in this dataset and the clustering will be done according to these three species"
   ]
  },
  {
   "cell_type": "code",
   "execution_count": 52,
   "metadata": {},
   "outputs": [],
   "source": [
    "kmeans =KMeans (n_clusters = 3)"
   ]
  },
  {
   "cell_type": "code",
   "execution_count": 53,
   "metadata": {},
   "outputs": [],
   "source": [
    "x = data.iloc[:, [1, 2, 3, 4]].values"
   ]
  },
  {
   "cell_type": "code",
   "execution_count": 54,
   "metadata": {},
   "outputs": [],
   "source": [
    "y_kmeans = kmeans.fit_predict(x)"
   ]
  },
  {
   "cell_type": "code",
   "execution_count": 55,
   "metadata": {},
   "outputs": [],
   "source": [
    "clusters = kmeans.cluster_centers_"
   ]
  },
  {
   "cell_type": "markdown",
   "metadata": {},
   "source": [
    "### Plotting the Clustering using the species of the dataset"
   ]
  },
  {
   "cell_type": "code",
   "execution_count": 56,
   "metadata": {},
   "outputs": [
    {
     "data": {
      "text/plain": [
       "<matplotlib.legend.Legend at 0xdf2ad48>"
      ]
     },
     "execution_count": 56,
     "metadata": {},
     "output_type": "execute_result"
    },
    {
     "data": {
      "image/png": "[encoded data removed]",
      "text/plain": [
       "<Figure size 432x288 with 1 Axes>"
      ]
     },
     "metadata": {
      "needs_background": "light"
     },
     "output_type": "display_data"
    }
   ],
   "source": [
    "plt.scatter(x[y_kmeans == 0, 0], x[y_kmeans == 0, 1], s = 60, c = 'red', label = 'Iris-setosa')\n",
    "plt.scatter(x[y_kmeans == 1, 0], x[y_kmeans == 1, 1], s = 60, c = 'blue', label = 'Iris-versicolour')\n",
    "plt.scatter(x[y_kmeans == 2, 0], x[y_kmeans == 2, 1], s = 60, c = 'green', label = 'Iris-virginica')\n",
    "plt.legend()"
   ]
  },
  {
   "cell_type": "markdown",
   "metadata": {},
   "source": [
    "### Plotting the K-Means Clusttering with centriods"
   ]
  },
  {
   "cell_type": "code",
   "execution_count": 57,
   "metadata": {},
   "outputs": [
    {
     "data": {
      "text/plain": [
       "<matplotlib.collections.PathCollection at 0xdfbe088>"
      ]
     },
     "execution_count": 57,
     "metadata": {},
     "output_type": "execute_result"
    },
    {
     "data": {
      "image/png": "[encoded data removed]",
      "text/plain": [
       "<Figure size 432x288 with 1 Axes>"
      ]
     },
     "metadata": {
      "needs_background": "light"
     },
     "output_type": "display_data"
    }
   ],
   "source": [
    "plt.scatter(x[y_kmeans == 0, 0], x[y_kmeans == 0, 1], s = 60, c = 'orange', label = 'Iris-setosa')\n",
    "plt.scatter(x[y_kmeans == 1, 0], x[y_kmeans == 1, 1], s = 60, c = 'cyan', label = 'Iris-versicolour')\n",
    "plt.scatter(x[y_kmeans == 2, 0], x[y_kmeans == 2, 1], s = 60, c = 'violet', label = 'Iris-virginica')\n",
    "plt.legend()\n",
    "\n",
    "\n",
    "plt.scatter(clusters[0][0], clusters[0][1] , marker = 'd', s = 150, color = 'black')\n",
    "plt.scatter(clusters[1][0], clusters[1][1] , marker = 'd', s = 150, color = 'black')\n",
    "plt.scatter(clusters[2][0], clusters[2][1] , marker = 'd', s = 150, color = 'black')"
   ]
  },
  {
   "cell_type": "markdown",
   "metadata": {},
   "source": [
    "*********************************************************\n",
    "\n",
    "### <div align = 'center' > Thank You! </div>"
   ]
  }
 ],
 "metadata": {
  "kernelspec": {
   "display_name": "Python 3",
   "language": "python",
   "name": "python3"
  },
  "language_info": {
   "codemirror_mode": {
    "name": "ipython",
    "version": 3
   },
   "file_extension": ".py",
   "mimetype": "text/x-python",
   "name": "python",
   "nbconvert_exporter": "python",
   "pygments_lexer": "ipython3",
   "version": "3.7.6"
  }
 },
 "nbformat": 4,
 "nbformat_minor": 4
}
