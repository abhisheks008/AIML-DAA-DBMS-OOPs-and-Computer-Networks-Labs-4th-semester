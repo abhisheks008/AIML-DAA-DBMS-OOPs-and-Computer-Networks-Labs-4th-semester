{
 "cells": [
  {
   "cell_type": "markdown",
   "metadata": {},
   "source": [
    "## Abhishek Sharma\n",
    "### CS 2nd Year | Section : \"I\" | Roll No.: 01\n",
    "\n",
    "### Enrollment No.: 12019009001127\n",
    "\n",
    "## Advanced Artificial Intelligence and Machine Learning Lab 8\n",
    "\n",
    "#### Faculty : PB, MB, BM | Date : 13.04.2021"
   ]
  },
  {
   "cell_type": "code",
   "execution_count": 1,
   "metadata": {},
   "outputs": [
    {
     "name": "stdout",
     "output_type": "stream",
     "text": [
      "[[1 2]\n",
      " [3 4]\n",
      " [5 6]]\n",
      "[[-0.2298477   0.88346102  0.40824829]\n",
      " [-0.52474482  0.24078249 -0.81649658]\n",
      " [-0.81964194 -0.40189603  0.40824829]]\n",
      "[9.52551809 0.51430058]\n",
      "[[-0.61962948 -0.78489445]\n",
      " [-0.78489445  0.61962948]]\n"
     ]
    }
   ],
   "source": [
    "# SVD function \n",
    "\n",
    "from numpy import array\n",
    "from scipy.linalg import svd\n",
    "A =array([[1,2],[3,4],[5,6]])\n",
    "print (A)\n",
    "U, s, VT = svd (A)\n",
    "print (U)\n",
    "print (s)\n",
    "print (VT)"
   ]
  },
  {
   "cell_type": "code",
   "execution_count": 3,
   "metadata": {},
   "outputs": [
    {
     "name": "stdout",
     "output_type": "stream",
     "text": [
      "[[1 2]\n",
      " [3 4]\n",
      " [5 6]]\n",
      "[[1. 2.]\n",
      " [3. 4.]\n",
      " [5. 6.]]\n"
     ]
    }
   ],
   "source": [
    "from numpy import array\n",
    "from numpy import diag\n",
    "from numpy import dot\n",
    "from numpy import zeros\n",
    "from scipy.linalg import svd\n",
    "A =array([[1,2],[3,4],[5,6]])\n",
    "print (A)\n",
    "\n",
    "U, s, VT = svd (A)\n",
    "Sigma = zeros((A.shape[0], A.shape[1]))\n",
    "\n",
    "Sigma [:A.shape[1], :A.shape[1]] = diag(s)\n",
    "\n",
    "B = U.dot(Sigma.dot(VT))\n",
    "print (B)"
   ]
  },
  {
   "cell_type": "code",
   "execution_count": 4,
   "metadata": {},
   "outputs": [
    {
     "name": "stdout",
     "output_type": "stream",
     "text": [
      "[[1 2 3]\n",
      " [4 5 6]\n",
      " [7 8 9]]\n",
      "[[1. 2. 3.]\n",
      " [4. 5. 6.]\n",
      " [7. 8. 9.]]\n"
     ]
    }
   ],
   "source": [
    "from numpy import array\n",
    "from numpy import diag\n",
    "from numpy import dot\n",
    "from numpy import zeros\n",
    "from scipy.linalg import svd\n",
    "\n",
    "A = array([[1,2,3],[4,5,6],[7,8,9]])\n",
    "print (A)\n",
    "U, s, VT = svd (A)\n",
    "\n",
    "Sigma = diag(s)\n",
    "\n",
    "B = U.dot(Sigma.dot(VT))\n",
    "print (B)"
   ]
  },
  {
   "cell_type": "code",
   "execution_count": 5,
   "metadata": {},
   "outputs": [
    {
     "name": "stdout",
     "output_type": "stream",
     "text": [
      "[[0.1 0.2]\n",
      " [0.3 0.4]\n",
      " [0.5 0.6]]\n",
      "[[-13.33333333  -3.33333333   6.66666667]\n",
      " [ 10.83333333   3.33333333  -4.16666667]]\n"
     ]
    }
   ],
   "source": [
    "from numpy import array\n",
    "from numpy.linalg import pinv\n",
    "A = array([[0.1,0.2], [0.3,0.4], [0.5,0.6]])\n",
    "\n",
    "print (A)\n",
    "\n",
    "B = pinv(A)\n",
    "print (B)"
   ]
  },
  {
   "cell_type": "code",
   "execution_count": 8,
   "metadata": {},
   "outputs": [
    {
     "name": "stdout",
     "output_type": "stream",
     "text": [
      "[[ 1  2  3  4  5  6  7  8  9 10]\n",
      " [11 12 13 14 15 16 17 18 19 20]\n",
      " [21 22 23 24 25 26 27 28 29 30]]\n",
      "[[ 1.  2.  3.  4.  5.  6.  7.  8.  9. 10.]\n",
      " [11. 12. 13. 14. 15. 16. 17. 18. 19. 20.]\n",
      " [21. 22. 23. 24. 25. 26. 27. 28. 29. 30.]]\n",
      "[[-18.52157747   6.47697214]\n",
      " [-49.81310011   1.91182038]\n",
      " [-81.10462276  -2.65333138]]\n",
      "[[-18.52157747   6.47697214]\n",
      " [-49.81310011   1.91182038]\n",
      " [-81.10462276  -2.65333138]]\n"
     ]
    }
   ],
   "source": [
    "from numpy import array\n",
    "from numpy import diag\n",
    "from numpy import dot\n",
    "from numpy import zeros\n",
    "from scipy.linalg import svd\n",
    "\n",
    "A = array([\n",
    "    [1,2,3,4,5,6,7,8,9,10],\n",
    "    [11,12,13,14,15,16,17,18,19,20],\n",
    "    [21,22,23,24,25,26,27,28,29,30]\n",
    "])\n",
    "\n",
    "print (A)\n",
    "U, s, VT = svd (A)\n",
    "\n",
    "Sigma = zeros((A.shape[0], A.shape[1]))\n",
    "\n",
    "Sigma [:A.shape[0], :A.shape[0]] = diag(s)\n",
    "\n",
    "n_elements = 2\n",
    "Sigma = Sigma[:,:n_elements]\n",
    "VT = VT[:n_elements, :]\n",
    "\n",
    "B = U.dot(Sigma.dot(VT))\n",
    "\n",
    "print (B)\n",
    "\n",
    "T = U.dot(Sigma)\n",
    "print (T)\n",
    "\n",
    "T = A.dot(VT.T)\n",
    "print (T)"
   ]
  },
  {
   "cell_type": "code",
   "execution_count": 9,
   "metadata": {},
   "outputs": [
    {
     "name": "stdout",
     "output_type": "stream",
     "text": [
      "[[18.52157747  6.47697214]\n",
      " [49.81310011  1.91182038]\n",
      " [81.10462276 -2.65333138]]\n"
     ]
    }
   ],
   "source": [
    "from numpy import array\n",
    "from numpy import diag\n",
    "from numpy import dot\n",
    "from numpy import zeros\n",
    "from scipy.linalg import svd\n",
    "from sklearn.decomposition import TruncatedSVD\n",
    "A = array([\n",
    "    [1,2,3,4,5,6,7,8,9,10],\n",
    "    [11,12,13,14,15,16,17,18,19,20],\n",
    "    [21,22,23,24,25,26,27,28,29,30]\n",
    "])\n",
    "\n",
    "svd = TruncatedSVD(n_components = 2)\n",
    "svd.fit(A)\n",
    "\n",
    "result = svd.transform(A)\n",
    "print (result)"
   ]
  },
  {
   "cell_type": "code",
   "execution_count": 10,
   "metadata": {},
   "outputs": [
    {
     "name": "stdout",
     "output_type": "stream",
     "text": [
      "[[ 1  2  3  4  5  6  7  8  9 10]\n",
      " [11 12 13 14 15 16 17 18 19 20]\n",
      " [21 22 23 24 25 26 27 28 29 30]]\n"
     ]
    }
   ],
   "source": [
    "print (A)"
   ]
  },
  {
   "cell_type": "code",
   "execution_count": null,
   "metadata": {},
   "outputs": [],
   "source": []
  }
 ],
 "metadata": {
  "kernelspec": {
   "display_name": "Python 3",
   "language": "python",
   "name": "python3"
  },
  "language_info": {
   "codemirror_mode": {
    "name": "ipython",
    "version": 3
   },
   "file_extension": ".py",
   "mimetype": "text/x-python",
   "name": "python",
   "nbconvert_exporter": "python",
   "pygments_lexer": "ipython3",
   "version": "3.7.6"
  }
 },
 "nbformat": 4,
 "nbformat_minor": 4
}
